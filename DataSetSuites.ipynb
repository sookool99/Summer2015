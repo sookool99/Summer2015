{
 "cells": [
  {
   "cell_type": "code",
   "execution_count": 2,
   "metadata": {
    "collapsed": true
   },
   "outputs": [],
   "source": [
    "import numpy as np\n",
    "import matplotlib.pyplot as plt\n",
    "import theano\n",
    "import theano.tensor as T\n",
    "import csv"
   ]
  },
  {
   "cell_type": "code",
   "execution_count": 15,
   "metadata": {
    "collapsed": true
   },
   "outputs": [],
   "source": [
    "def generate2DGausData(mean, cov,amount = 100):\n",
    "    x,y = np.random.multivariate_normal(mean,cov,amount).T\n",
    "    return [x,y]"
   ]
  },
  {
   "cell_type": "code",
   "execution_count": 16,
   "metadata": {
    "collapsed": true
   },
   "outputs": [],
   "source": [
    "mean = [10,10]\n",
    "cov = [[100,0],[0,100]]\n",
    "x,y = generate2DGaus(mean, cov, 500)\n",
    "plt.scatter(x,y); plt.axis('equal'); plt.show()"
   ]
  },
  {
   "cell_type": "code",
   "execution_count": 90,
   "metadata": {
    "collapsed": false
   },
   "outputs": [
    {
     "data": {
      "text/plain": [
       "'\\nmean1 = [0,0]\\ncov1 = [[10,0],[0,10]]\\ncluster1 = [mean1,cov1, 1]\\n\\nmean2 = [30,30]\\ncov2 = [[10,0],[0,10]]\\ncluster2 = [mean2,cov2, 0]\\n\\nclusters = [cluster1, cluster2]\\nx = generate2DGausData(clusters)\\n'"
      ]
     },
     "execution_count": 90,
     "metadata": {},
     "output_type": "execute_result"
    }
   ],
   "source": [
    "#generates len(dataPoints) amount of gause clusters\n",
    "#@dataPoints: is a list of mean and covariance's to generate data for.\n",
    "#       Which look something like [[mean1, cov1, value1], [mean2,cov2,value2]] where mean is a 1X2 and cov is 2X2\n",
    "#       and value is what the value for this cluster will be, which is a truthy value.\n",
    "#@amount: amount of data points you want per cluster\n",
    "#@display: true of false if you want to display data on plot or not\n",
    "#@ofName: out file name where to save data to. If you do not wish to save the data to a file \n",
    "#       Then just dont pass anything for this param.\n",
    "def generate2DGausData(dataPoints, amount = 100, display = True, ofName = ''):\n",
    "    points = []\n",
    "    if ofName:\n",
    "        data = open(ofName, \"w\")\n",
    "        writer = csv.writer(data, delimiter=',')\n",
    "    for i in range(0,len(dataPoints)):\n",
    "        x,y = np.random.multivariate_normal(dataPoints[i][0], dataPoints[i][1], amount).T\n",
    "        for kk in range(0,amount):\n",
    "            points.extend([[dataPoints[i][2],x[kk],y[kk]]])\n",
    "            if ofName:\n",
    "                writer.writerow([dataPoints[i][2],x[kk],y[kk]])\n",
    "        if display:\n",
    "            if dataPoints[i][2]:\n",
    "                plt.scatter(x,y,20, 'r')\n",
    "            else:\n",
    "                plt.scatter(x,y,20, 'y')\n",
    "    if ofName:\n",
    "        data.close()\n",
    "    plt.show()\n",
    "    return points\n",
    "\n",
    "#Example on how to use\n",
    "'''\n",
    "mean1 = [0,0]\n",
    "cov1 = [[10,0],[0,10]]\n",
    "cluster1 = [mean1,cov1, 1]\n",
    "\n",
    "mean2 = [30,30]\n",
    "cov2 = [[10,0],[0,10]]\n",
    "cluster2 = [mean2,cov2, 0]\n",
    "\n",
    "clusters = [cluster1, cluster2]\n",
    "x = generate2DGausData(clusters)\n",
    "//or\n",
    "x = generate2DGausData(clusters, 100,False, 'test.txt')\n",
    "'''"
   ]
  },
  {
   "cell_type": "code",
   "execution_count": null,
   "metadata": {
    "collapsed": true
   },
   "outputs": [],
   "source": []
  }
 ],
 "metadata": {
  "kernelspec": {
   "display_name": "Python 3",
   "language": "python",
   "name": "python3"
  },
  "language_info": {
   "codemirror_mode": {
    "name": "ipython",
    "version": 3
   },
   "file_extension": ".py",
   "mimetype": "text/x-python",
   "name": "python",
   "nbconvert_exporter": "python",
   "pygments_lexer": "ipython3",
   "version": "3.4.2"
  }
 },
 "nbformat": 4,
 "nbformat_minor": 0
}

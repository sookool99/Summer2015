{
 "cells": [
  {
   "cell_type": "code",
   "execution_count": 1,
   "metadata": {
    "collapsed": true
   },
   "outputs": [],
   "source": [
    "import numpy as np\n",
    "import matplotlib.pyplot as plt\n",
    "from matplotlib import cm\n",
    "from mpl_toolkits.mplot3d import Axes3D\n",
    "from matplotlib.ticker import LinearLocator\n",
    "import theano\n",
    "import theano.tensor as T\n",
    "import csv"
   ]
  },
  {
   "cell_type": "code",
   "execution_count": 2,
   "metadata": {
    "collapsed": false
   },
   "outputs": [],
   "source": [
    "#generate the file we will be using\n",
    "def generateDataFiles(plot = True, size = 0, w1 = 0, w2 = 0):\n",
    "    x = T.vector('x')\n",
    "    w = T.vector('w')\n",
    "\n",
    "    s = 1 / (1 + T.exp(-T.dot(x,w)))\n",
    "    logistic = theano.function([x,w], s)\n",
    "    epsilon = 0.05\n",
    "\n",
    "    data = open(\"Data.txt\", \"w\")\n",
    "    writer = csv.writer(data, delimiter=',')\n",
    "    \n",
    "    if size == 0:\n",
    "        size = 50\n",
    "\n",
    "    x1 = np.random.uniform(-10,10,size)\n",
    "    x2 = np.random.uniform(-10,10,size)\n",
    "\n",
    "    if w1 == 0:\n",
    "        w1 = np.random.uniform(-2,2,1)[0]\n",
    "    if w2 == 0:\n",
    "        w2 = np.random.uniform(-2,2,1)[0]\n",
    "    print(\"Actual w1 = %f and w2 = %f\\n\"%(w1,w2))\n",
    "\n",
    "    for i in range(0,size):\n",
    "        val1 = x1[i]\n",
    "        val2 = x2[i]\n",
    "        k = logistic([val1,val2],[w1,w2])\n",
    "        if 1 - k < epsilon:\n",
    "            writer.writerow([1,val1,val2])\n",
    "        elif k < epsilon:\n",
    "            writer.writerow([0,val1,val2])\n",
    "    data.close()\n",
    "    if plot:\n",
    "        plotData(w1,w2)\n"
   ]
  },
  {
   "cell_type": "code",
   "execution_count": 3,
   "metadata": {
    "collapsed": false
   },
   "outputs": [],
   "source": [
    "#calculate Error from training data\n",
    "def calculateError(w1, w2, display = True):\n",
    "    x = T.vector('x')\n",
    "    w = T.vector('w')\n",
    "\n",
    "    s = 1 / (1 + T.exp(-T.dot(x,w)))\n",
    "    logistic = theano.function([x,w], s)\n",
    "    \n",
    "    if display:\n",
    "        print(\"With: w1 = %f and w2 = %f\"%(w1,w2))\n",
    "    \n",
    "\n",
    "    data = []\n",
    "    sumError = 0\n",
    "    sumErrorSquare = 0\n",
    "    with open('Data.txt') as fp:\n",
    "        reader = csv.reader(fp, delimiter=',')\n",
    "        for line in reader:\n",
    "            data.append([int(line[0]), float(line[1]), float(line[2])])\n",
    "    if display:\n",
    "        print('y\\t\\tf(x)\\t\\tE\\t\\tE^2')\n",
    "    for i in range(0,len(data)):\n",
    "        x1 = data[i][1]\n",
    "        x2 = data[i][2]\n",
    "        f = logistic([x1,x2],[w1,w2])\n",
    "        e = data[i][0] - f\n",
    "        e2 = e**2\n",
    "        sumError += e\n",
    "        sumErrorSquare += e2\n",
    "        if display:\n",
    "            print('%f\\t%f\\t%f\\t%f'%(data[i][0],f,e,e2))\n",
    "    if display:\n",
    "        print(\"\\nSum:\\t\\t\\t\\t%f\\t%f\"%(sumError, sumErrorSquare))\n",
    "    return sumErrorSquare"
   ]
  },
  {
   "cell_type": "code",
   "execution_count": 4,
   "metadata": {
    "collapsed": false
   },
   "outputs": [],
   "source": [
    "#plot Data from Data.txt\n",
    "def plotData(w1,w2):\n",
    "    data = []\n",
    "    with open('Data.txt') as fp:\n",
    "        reader = csv.reader(fp, delimiter=',')\n",
    "        for line in reader:\n",
    "            data.append([int(line[0]), float(line[1]), float(line[2])])\n",
    "    for i in range(0,len(data)):\n",
    "        if data[i][0] == 1:\n",
    "            plt.scatter(data[i][1],data[i][2],20, 'r')\n",
    "        else:\n",
    "            plt.scatter(data[i][1],data[i][2],20, 'y')\n",
    "    plt.plot([0,w1],[0,w2])\n",
    "    plt.show()"
   ]
  },
  {
   "cell_type": "code",
   "execution_count": 36,
   "metadata": {
    "collapsed": false
   },
   "outputs": [],
   "source": [
    "#attempt to find my w\n",
    "def findW(plot = True, showError = True, epsilon = 0.1):\n",
    "    x = T.vector('x')\n",
    "    w = T.vector('w')\n",
    "\n",
    "    s = 1 / (1 + T.exp(-T.dot(x,w)))\n",
    "    logistic = theano.function([x,w], s)\n",
    "\n",
    "    gs = T.grad(s, w)\n",
    "    dlogistic = theano.function([x,w], gs)\n",
    "    \n",
    "\n",
    "    w1 = np.random.uniform(-2,2,1)[0]\n",
    "    w2 = np.random.uniform(-2,2,1)[0]\n",
    "    print(\"Starting Values: w1 = %f and w2 = %f\"%(w1,w2))\n",
    "\n",
    "    data = []\n",
    "    with open('Data.txt') as fp:\n",
    "        reader = csv.reader(fp, delimiter=',')\n",
    "        for line in reader:\n",
    "            data.append([int(line[0]), float(line[1]), float(line[2])])\n",
    "    sumErrorSquare = 1\n",
    "    iterations = 0\n",
    "    while sumErrorSquare > epsilon:\n",
    "        sumError = 0\n",
    "        sumErrorSquare = 0\n",
    "        sumErrorDeriv = 0\n",
    "        for i in range(0,len(data)):\n",
    "            x1 = data[i][1]\n",
    "            x2 = data[i][2]\n",
    "            f = logistic([x1,x2],[w1,w2])\n",
    "            e = data[i][0] - f\n",
    "            e2 = e**2\n",
    "            sumError += e\n",
    "            sumErrorSquare = sumErrorSquare + e2\n",
    "            sumErrorDeriv -= 2 * e * dlogistic([x1,x2],[w1,w2])\n",
    "        if iterations > 200:\n",
    "            print(\"\")\n",
    "        w1 = w1 -  0.1 * sumErrorDeriv[0]\n",
    "        w2 = w2 - 0.1 * sumErrorDeriv[1]\n",
    "    print(\"Final Values: w1 = %f and w2 = %f\"%(w1,w2))\n",
    "    print(\"iterations took:\",iterations)\n",
    "    if plot:\n",
    "        plotData(w1,w2)\n",
    "    if showError:    \n",
    "        print(\"\\nCalculating Error ... \")\n",
    "    return calculateError(w1,w2, showError)\n",
    "    "
   ]
  },
  {
   "cell_type": "code",
   "execution_count": 37,
   "metadata": {
    "collapsed": false,
    "scrolled": true
   },
   "outputs": [
    {
     "name": "stdout",
     "output_type": "stream",
     "text": [
      "Actual w1 = 1.845551 and w2 = -1.008407\n",
      "\n",
      "Starting Values: w1 = -0.187673 and w2 = -1.779409\n",
      "Final Values: w1 = 1.953915 and w2 = -0.976632\n",
      "iterations took: 147\n",
      "The error for these values: 0.00099150943416\n",
      "\n",
      "Starting Values: w1 = 0.362837 and w2 = 1.377963\n",
      "Final Values: w1 = 2.103517 and w2 = -0.675106\n",
      "iterations took: 33\n",
      "The error for these values: 0.000976116373943\n",
      "\n",
      "Starting Values: w1 = 1.766126 and w2 = -1.319515\n",
      "Final Values: w1 = 2.028401 and w2 = -1.087431\n",
      "iterations took: 132\n",
      "The error for these values: 0.000994077438104\n",
      "\n",
      "Starting Values: w1 = -1.590134 and w2 = -1.448304\n",
      "Final Values: w1 = 2.309835 and w2 = -1.450566\n",
      "iterations took: 73\n",
      "The error for these values: 0.000982798992901\n",
      "\n"
     ]
    }
   ],
   "source": [
    "#testing the the function to find a w\n",
    "generateDataFiles(False)\n",
    "for i in range(0,4):\n",
    "    error = findW(False, False)\n",
    "    print(\"The error for these values:\",error)\n",
    "    print(\"\")\n",
    "    \n"
   ]
  },
  {
   "cell_type": "code",
   "execution_count": 6,
   "metadata": {
    "collapsed": false
   },
   "outputs": [],
   "source": [
    "\n",
    "def generateAndFindWPlotError():\n",
    "    data = generateGraphData(20)\n",
    "    print(\"Done Generating Grid!\")\n",
    "    xHolder = data[0]\n",
    "    yHolder = data[1]\n",
    "    z = np.array([calculateError(x,y, False) for x,y in zip(np.ravel(xHolder), np.ravel(yHolder))])\n",
    "    print(\"Done Calculating Errors\")\n",
    "    Z = z.reshape(xHolder.shape)\n",
    "    data.extend([Z])\n",
    "    return data"
   ]
  },
  {
   "cell_type": "code",
   "execution_count": null,
   "metadata": {
    "collapsed": false
   },
   "outputs": [
    {
     "name": "stdout",
     "output_type": "stream",
     "text": [
      "Done Generating Grid!\n",
      "Done Calculating Errors"
     ]
    }
   ],
   "source": [
    "#testing functions to plot data\n",
    "data = generateAndFindWPlotError()\n",
    "\n",
    "fig = plt.figure()\n",
    "ax = fig.add_subplot(111, projection='3d')\n",
    "ax.plot_surface(data[0], data[1],data[2],rstride=1, cstride=1, cmap=cm.coolwarm)\n",
    "\n",
    "ax.set_xlabel('W1 Axis')\n",
    "ax.set_ylabel('W2 Axis')\n",
    "ax.set_zlabel('Error Axis')\n",
    "\n",
    "plt.show()"
   ]
  },
  {
   "cell_type": "code",
   "execution_count": 7,
   "metadata": {
    "collapsed": false
   },
   "outputs": [],
   "source": [
    "#used to genereate range of values for w1 and w2\n",
    "def generateGraphData(numberOfEach):\n",
    "    x = np.linspace(-10,10,numberOfEach)\n",
    "    #x = np.repeat(x, numberOfEach)\n",
    "    y = np.linspace(-10,10,numberOfEach)\n",
    "    #y = np.tile(y,numberOfEach)\n",
    "    x, y = np.meshgrid(x,y)\n",
    "    return [x,y]"
   ]
  },
  {
   "cell_type": "code",
   "execution_count": 28,
   "metadata": {
    "collapsed": false
   },
   "outputs": [
    {
     "name": "stdout",
     "output_type": "stream",
     "text": [
      "Done Generating Grid!\n",
      "Done Calculating Errors\n",
      "[[0.0, 1.5], [-1.5, 3.0], [0.0, 3.0]]\n"
     ]
    }
   ],
   "source": [
    "#testing validity of the generateAndFindWPlotError function and generateGraphData\n",
    "\n",
    "data = generateAndFindWPlotError()\n",
    "goodData = []\n",
    "for x,y,z in zip(np.ravel(data[0]), np.ravel(data[1]), np.ravel(data[2])):\n",
    "    if z < 0.01:\n",
    "        goodData.extend([[x, y]])\n",
    "        plotData(x,y)\n",
    "print(goodData)"
   ]
  },
  {
   "cell_type": "code",
   "execution_count": null,
   "metadata": {
    "collapsed": true
   },
   "outputs": [],
   "source": []
  }
 ],
 "metadata": {
  "kernelspec": {
   "display_name": "Python 3",
   "language": "python",
   "name": "python3"
  },
  "language_info": {
   "codemirror_mode": {
    "name": "ipython",
    "version": 3
   },
   "file_extension": ".py",
   "mimetype": "text/x-python",
   "name": "python",
   "nbconvert_exporter": "python",
   "pygments_lexer": "ipython3",
   "version": "3.4.2"
  }
 },
 "nbformat": 4,
 "nbformat_minor": 0
}

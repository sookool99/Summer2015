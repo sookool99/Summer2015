{
 "cells": [
  {
   "cell_type": "code",
   "execution_count": 1,
   "metadata": {
    "collapsed": true
   },
   "outputs": [],
   "source": [
    "import numpy as np\n",
    "import matplotlib.pyplot as plt\n",
    "\n",
    "from mpl_toolkits.mplot3d import Axes3D\n",
    "from matplotlib.ticker import LinearLocator\n",
    "\n",
    "import theano\n",
    "import theano.tensor as T\n",
    "import csv"
   ]
  },
  {
   "cell_type": "code",
   "execution_count": 2,
   "metadata": {
    "collapsed": false
   },
   "outputs": [],
   "source": [
    "#generate the file we will be using\n",
    "def generateDataFiles(plot = True, size = 0, w1 = 0, w2 = 0):\n",
    "    x = T.vector('x')\n",
    "    w = T.vector('w')\n",
    "\n",
    "    s = 1 / (1 + T.exp(-T.dot(x,w)))\n",
    "    logistic = theano.function([x,w], s)\n",
    "    epsilon = 0.05\n",
    "\n",
    "    data = open(\"Data.txt\", \"w\")\n",
    "    writer = csv.writer(data, delimiter=',')\n",
    "    \n",
    "    if size == 0:\n",
    "        size = 50\n",
    "\n",
    "    x1 = np.random.uniform(-10,10,size)\n",
    "    x2 = np.random.uniform(-10,10,size)\n",
    "\n",
    "    if w1 == 0:\n",
    "        w1 = np.random.uniform(-2,2,1)[0]\n",
    "    if w2 == 0:\n",
    "        w2 = np.random.uniform(-2,2,1)[0]\n",
    "    print(\"Actual w1 = %f and w2 = %f\\n\"%(w1,w2))\n",
    "\n",
    "    for i in range(0,size):\n",
    "        val1 = x1[i]\n",
    "        val2 = x2[i]\n",
    "        k = logistic([val1,val2],[w1,w2])\n",
    "        if 1 - k < epsilon:\n",
    "            writer.writerow([1,val1,val2])\n",
    "        elif k < epsilon:\n",
    "            writer.writerow([0,val1,val2])\n",
    "    data.close()\n",
    "    if plot:\n",
    "        plotData(w1,w2)\n"
   ]
  },
  {
   "cell_type": "code",
   "execution_count": 100,
   "metadata": {
    "collapsed": false
   },
   "outputs": [],
   "source": [
    "#calculate Error from training data\n",
    "def calculateError(w1, w2, display = True):\n",
    "    x = T.vector('x')\n",
    "    w = T.vector('w')\n",
    "\n",
    "    s = 1 / (1 + T.exp(-T.dot(x,w)))\n",
    "    logistic = theano.function([x,w], s)\n",
    "    \n",
    "    if display:\n",
    "        print(\"With: w1 = %f and w2 = %f\"%(w1,w2))\n",
    "    \n",
    "\n",
    "    data = []\n",
    "    sumError = 0\n",
    "    sumErrorSquare = 0\n",
    "    with open('Data.txt') as fp:\n",
    "        reader = csv.reader(fp, delimiter=',')\n",
    "        for line in reader:\n",
    "            data.append([int(line[0]), float(line[1]), float(line[2])])\n",
    "    if display:\n",
    "        print('y\\t\\tf(x)\\t\\tE\\t\\tE^2')\n",
    "    for i in range(0,len(data)):\n",
    "        x1 = data[i][1]\n",
    "        x2 = data[i][2]\n",
    "        f = logistic([x1,x2],[w1,w2])\n",
    "        e = data[i][0] - f\n",
    "        e2 = e**2\n",
    "        sumError += e\n",
    "        sumErrorSquare += e2\n",
    "        if display:\n",
    "            print('%f\\t%f\\t%f\\t%f'%(data[i][0],f,e,e2))\n",
    "    if display:\n",
    "        print(\"\\nSum:\\t\\t\\t\\t%f\\t%f\"%(sumError, sumErrorSquare))\n",
    "    return sumErrorSquare"
   ]
  },
  {
   "cell_type": "code",
   "execution_count": 4,
   "metadata": {
    "collapsed": false
   },
   "outputs": [],
   "source": [
    "#plot Data from Data.txt\n",
    "def plotData(w1,w2):\n",
    "    data = []\n",
    "    with open('Data.txt') as fp:\n",
    "        reader = csv.reader(fp, delimiter=',')\n",
    "        for line in reader:\n",
    "            data.append([int(line[0]), float(line[1]), float(line[2])])\n",
    "    for i in range(0,len(data)):\n",
    "        if data[i][0] == 1:\n",
    "            plt.scatter(data[i][1],data[i][2],20, 'r')\n",
    "        else:\n",
    "            plt.scatter(data[i][1],data[i][2],20, 'y')\n",
    "    plt.plot([0,w1],[0,w2])\n",
    "    plt.show()"
   ]
  },
  {
   "cell_type": "code",
   "execution_count": 5,
   "metadata": {
    "collapsed": false
   },
   "outputs": [],
   "source": [
    "#attempt to find my w\n",
    "def findW(plot = True, showError = True):\n",
    "    x = T.vector('x')\n",
    "    w = T.vector('w')\n",
    "\n",
    "    s = 1 / (1 + T.exp(-T.dot(x,w)))\n",
    "    logistic = theano.function([x,w], s)\n",
    "\n",
    "    gs = T.grad(s, w)\n",
    "    dlogistic = theano.function([x,w], gs)\n",
    "    \n",
    "\n",
    "    w1 = np.random.uniform(-2,2,1)[0]\n",
    "    w2 = np.random.uniform(-2,2,1)[0]\n",
    "    print(\"Starting Values: w1 = %f and w2 = %f\"%(w1,w2))\n",
    "\n",
    "    data = []\n",
    "    with open('Data.txt') as fp:\n",
    "        reader = csv.reader(fp, delimiter=',')\n",
    "        for line in reader:\n",
    "            data.append([int(line[0]), float(line[1]), float(line[2])])\n",
    "    for kk in range(0,20):\n",
    "        sumError = 0\n",
    "        sumErrorSquare = 0\n",
    "        sumErrorDeriv = 0\n",
    "        for i in range(0,len(data)):\n",
    "            x1 = data[i][1]\n",
    "            x2 = data[i][2]\n",
    "            f = logistic([x1,x2],[w1,w2])\n",
    "            e = data[i][0] - f\n",
    "            e2 = e**2\n",
    "            sumError += e\n",
    "            sumErrorSquare = sumErrorSquare + e2\n",
    "            sumErrorDeriv += 2 * e * dlogistic([x1,x2],[w1,w2])\n",
    "        w1 = w1 -  0.005 * sumErrorDeriv[0]\n",
    "        w2 = w2 - 0.005 * sumErrorDeriv[1]\n",
    "    print(\"Final Values: w1 = %f and w2 = %f\"%(w1,w2))\n",
    "    if plot:\n",
    "        plotData(w1,w2)\n",
    "    if showError:    \n",
    "        print(\"\\nCalculating Error ... \")\n",
    "    return calculateError(w1,w2, showError)\n",
    "    "
   ]
  },
  {
   "cell_type": "code",
   "execution_count": 6,
   "metadata": {
    "collapsed": false
   },
   "outputs": [
    {
     "name": "stdout",
     "output_type": "stream",
     "text": [
      "Actual w1 = 0.737624 and w2 = -0.335892\n",
      "\n",
      "Starting Values: w1 = -0.856407 and w2 = -1.262587\n",
      "Final Values: w1 = -1.493738 and w2 = -0.665903\n",
      "The error for these values: 25.0715000391\n",
      "\n",
      "Starting Values: w1 = -1.100743 and w2 = 1.967303\n",
      "Final Values: w1 = -1.615693 and w2 = 1.640753\n",
      "The error for these values: 27.2117578556\n",
      "\n",
      "Starting Values: w1 = 1.860659 and w2 = -1.436796\n",
      "Final Values: w1 = 1.859961 and w2 = -1.437462\n",
      "The error for these values: 0.000453779820769\n",
      "\n",
      "Starting Values: w1 = 1.243822 and w2 = 1.541506\n",
      "Final Values: w1 = 0.596879 and w2 = 1.942579\n",
      "The error for these values: 14.8670001624\n",
      "\n",
      "Starting Values: w1 = 1.720538 and w2 = 1.093287\n",
      "Final Values: w1 = 1.321167 and w2 = 1.579028\n",
      "The error for these values: 8.64950819074\n",
      "\n"
     ]
    }
   ],
   "source": [
    "#testing the the function to find a w\n",
    "generateDataFiles(False)\n",
    "for i in range(0,5):\n",
    "    error = findW(False, False)\n",
    "    print(\"The error for these values:\",error)\n",
    "    print(\"\")\n",
    "    \n"
   ]
  },
  {
   "cell_type": "code",
   "execution_count": 74,
   "metadata": {
    "collapsed": false
   },
   "outputs": [],
   "source": [
    "\n",
    "def generateAndFindWPlotError():\n",
    "    data = generateGraphData(10)\n",
    "    f = []\n",
    "    for i in range(0,len(data[0])):\n",
    "        #errors.append([w1[i],fixedW2,calculateError(w1[i],fixedW2, False)])\n",
    "        f.extend([calculateError(data[0][i],data[1][i], False)])\n",
    "    data.extend([f])\n",
    "    return data"
   ]
  },
  {
   "cell_type": "code",
   "execution_count": 102,
   "metadata": {
    "collapsed": false
   },
   "outputs": [],
   "source": [
    "#testing functions to plot data\n",
    "data = generateAndFindWPlotError()\n",
    "\n",
    "fig = plt.figure()\n",
    "ax = fig.add_subplot(111, projection='3d')\n",
    "X, Y = np.meshgrid(data[0], data[1])\n",
    "ax.plot_surface(X,Y,data[2])\n",
    "plt.show()"
   ]
  },
  {
   "cell_type": "code",
   "execution_count": 68,
   "metadata": {
    "collapsed": false
   },
   "outputs": [],
   "source": [
    "#used to genereate range of values for w1 and w2\n",
    "def generateGraphData(numberOfEach):\n",
    "    x = np.linspace(-3,3,numberOfEach)\n",
    "    x = np.repeat(x, numberOfEach).tolist()\n",
    "    y = np.linspace(-3,3,numberOfEach)\n",
    "    y = np.tile(y,numberOfEach).tolist()\n",
    "    return [x,y]"
   ]
  },
  {
   "cell_type": "code",
   "execution_count": 101,
   "metadata": {
    "collapsed": false
   },
   "outputs": [
    {
     "name": "stdout",
     "output_type": "stream",
     "text": [
      "[[-1.6666666666666667, 3.0], [-1.0, 2.333333333333333], [-1.0, 3.0], [-0.3333333333333335, 1.666666666666666], [-0.3333333333333335, 2.333333333333333], [-0.3333333333333335, 3.0], [0.33333333333333304, 2.333333333333333], [0.33333333333333304, 3.0]]\n"
     ]
    }
   ],
   "source": [
    "#testing validity of the generateAndFindWPlotError function and generateGraphData function\n",
    "\n",
    "data = generateAndFindWPlotError()\n",
    "goodData = []\n",
    "for i in range(0,len(data[0])):\n",
    "    if data[2][i] < 0.01:\n",
    "        goodData.extend([[data[0][i], data[1][i]]])\n",
    "        plotData(data[0][i],data[1][i])\n",
    "print(goodData)"
   ]
  },
  {
   "cell_type": "code",
   "execution_count": null,
   "metadata": {
    "collapsed": true
   },
   "outputs": [],
   "source": []
  }
 ],
 "metadata": {
  "kernelspec": {
   "display_name": "Python 3",
   "language": "python",
   "name": "python3"
  },
  "language_info": {
   "codemirror_mode": {
    "name": "ipython",
    "version": 3
   },
   "file_extension": ".py",
   "mimetype": "text/x-python",
   "name": "python",
   "nbconvert_exporter": "python",
   "pygments_lexer": "ipython3",
   "version": "3.4.2"
  }
 },
 "nbformat": 4,
 "nbformat_minor": 0
}

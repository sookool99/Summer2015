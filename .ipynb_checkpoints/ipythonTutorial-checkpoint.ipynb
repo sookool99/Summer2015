{
 "cells": [
  {
   "cell_type": "code",
   "execution_count": 76,
   "metadata": {
    "collapsed": false
   },
   "outputs": [
    {
     "data": {
      "text/plain": [
       "'\\nAUTHOR: Shawn Macburnie\\n\\nAll Tests that need to be run can be found at the bottom of the page with the function name starting with Test.\\n\\nWhat you want to do is run every cell of code into memory and then once that is done you can can \\ncall the Test functions, or any other function you wish.\\n'"
      ]
     },
     "execution_count": 76,
     "metadata": {},
     "output_type": "execute_result"
    }
   ],
   "source": [
    "'''\n",
    "AUTHOR: Shawn Macburnie\n",
    "\n",
    "All Tests that need to be run can be found at the bottom of the page with the function name starting with Test.\n",
    "\n",
    "What you want to do is run every cell of code into memory and then once that is done you can can \n",
    "call the Test functions, or any other function you wish.\n",
    "'''"
   ]
  },
  {
   "cell_type": "code",
   "execution_count": 55,
   "metadata": {
    "collapsed": true
   },
   "outputs": [],
   "source": [
    "import numpy as np\n",
    "import matplotlib.pyplot as plt\n",
    "from matplotlib import cm\n",
    "from mpl_toolkits.mplot3d import Axes3D\n",
    "from matplotlib.ticker import LinearLocator\n",
    "import matplotlib.animation as animation\n",
    "import copy\n",
    "import theano\n",
    "import theano.tensor as T\n",
    "import csv\n",
    "from random import randint\n",
    "import os"
   ]
  },
  {
   "cell_type": "code",
   "execution_count": 40,
   "metadata": {
    "collapsed": false
   },
   "outputs": [],
   "source": [
    "#calculate Error from training data\n",
    "def calculateError(w1, w2, data = [],display = True):\n",
    "    x = T.vector('x')\n",
    "    w = T.vector('w')\n",
    "\n",
    "    s = 1 / (1 + T.exp(-T.dot(x,w)))\n",
    "    logistic = theano.function([x,w], s)\n",
    "    \n",
    "    if display:\n",
    "        print(\"With: w1 = %f and w2 = %f\"%(w1,w2))\n",
    "    \n",
    "\n",
    "    sumError = 0\n",
    "    sumErrorSquare = 0\n",
    "    if(not len(data)):\n",
    "        with open('Data.txt') as fp:\n",
    "            reader = csv.reader(fp, delimiter=',')\n",
    "            for line in reader:\n",
    "                data.append([int(line[0]), float(line[1]), float(line[2])])\n",
    "    if display:\n",
    "        print('y\\t\\tf(x)\\t\\tE\\t\\tE^2')\n",
    "    for i in range(0,len(data)):\n",
    "        x1 = data[i][1]\n",
    "        x2 = data[i][2]\n",
    "        f = logistic([x1,x2],[w1,w2])\n",
    "        e = data[i][0] - f\n",
    "        e2 = e**2\n",
    "        sumError += e\n",
    "        sumErrorSquare += e2\n",
    "        if display:\n",
    "            print('%f\\t%f\\t%f\\t%f'%(data[i][0],f,e,e2))\n",
    "    if display:\n",
    "        print(\"\\nSum:\\t\\t\\t\\t%f\\t%f\"%(sumError, sumErrorSquare))\n",
    "    return sumErrorSquare"
   ]
  },
  {
   "cell_type": "code",
   "execution_count": 29,
   "metadata": {
    "collapsed": false
   },
   "outputs": [],
   "source": [
    "#plot Data from Data.txt\n",
    "def plotData(w1,w2):\n",
    "    data = []\n",
    "    with open('Data.txt') as fp:\n",
    "        reader = csv.reader(fp, delimiter=',')\n",
    "        for line in reader:\n",
    "            data.append([int(line[0]), float(line[1]), float(line[2])])\n",
    "    for i in range(0,len(data)):\n",
    "        if data[i][0] == 1:\n",
    "            plt.scatter(data[i][1],data[i][2],20, 'r')\n",
    "        else:\n",
    "            plt.scatter(data[i][1],data[i][2],20, 'y')\n",
    "    plt.plot([0,w1],[0,w2])\n",
    "    plt.show()"
   ]
  },
  {
   "cell_type": "code",
   "execution_count": 30,
   "metadata": {
    "collapsed": false
   },
   "outputs": [],
   "source": [
    "#attempt to find my w\n",
    "def findW(plot = True, showError = True, epsilon = 0.1):\n",
    "    x = T.vector('x')\n",
    "    w = T.vector('w')\n",
    "\n",
    "    s = 1 / (1 + T.exp(-T.dot(x,w)))\n",
    "    logistic = theano.function([x,w], s)\n",
    "\n",
    "    gs = T.grad(s, w)\n",
    "    dlogistic = theano.function([x,w], gs)\n",
    "    \n",
    "\n",
    "    w1 = np.random.uniform(-2,2,1)[0]\n",
    "    w2 = np.random.uniform(-2,2,1)[0]\n",
    "    print(\"Starting Values: w1 = %f and w2 = %f\"%(w1,w2))\n",
    "\n",
    "    data = []\n",
    "    with open('Data.txt') as fp:\n",
    "        reader = csv.reader(fp, delimiter=',')\n",
    "        for line in reader:\n",
    "            data.append([int(line[0]), float(line[1]), float(line[2])])\n",
    "    sumErrorSquare = 1\n",
    "    iterations = 0\n",
    "    while sumErrorSquare > epsilon:\n",
    "        sumError = 0\n",
    "        sumErrorSquare = 0\n",
    "        sumErrorDeriv = 0\n",
    "        for i in range(0,len(data)):\n",
    "            x1 = data[i][1]\n",
    "            x2 = data[i][2]\n",
    "            f = logistic([x1,x2],[w1,w2])\n",
    "            e = data[i][0] - f\n",
    "            e2 = e**2\n",
    "            sumError += e\n",
    "            sumErrorSquare = sumErrorSquare + e2\n",
    "            sumErrorDeriv -= 2 * e * dlogistic([x1,x2],[w1,w2])\n",
    "        if iterations > 200:\n",
    "            print(\"either The Data given is unsolvable or you have reached a local minima ... \")\n",
    "            return calculateError(w1,w2, showError)\n",
    "        iterations += 1\n",
    "        w1 = w1 -  0.1 * sumErrorDeriv[0]\n",
    "        w2 = w2 - 0.1 * sumErrorDeriv[1]\n",
    "    print(\"Final Values: w1 = %f and w2 = %f\"%(w1,w2))\n",
    "    print(\"iterations took:\",iterations)\n",
    "    if plot:\n",
    "        plotData(w1,w2)\n",
    "    if showError:    \n",
    "        print(\"\\nCalculating Error ... \")\n",
    "    return calculateError(w1,w2, showError)\n",
    "    "
   ]
  },
  {
   "cell_type": "code",
   "execution_count": 37,
   "metadata": {
    "collapsed": false
   },
   "outputs": [],
   "source": [
    "#used to generate a gride and then calculate the error\n",
    "def plotErrorSurface(numberOfEach = 20, data = []):\n",
    "    dataPoints = generateGraphData(numberOfEach)\n",
    "    xHolder = dataPoints[0]\n",
    "    yHolder = dataPoints[1]\n",
    "    z = np.array([calculateError(x,y, data,False) for x,y in zip(np.ravel(xHolder), np.ravel(yHolder))])\n",
    "    Z = z.reshape(xHolder.shape)\n",
    "    dataPoints.extend([Z])\n",
    "    return dataPoints"
   ]
  },
  {
   "cell_type": "code",
   "execution_count": 32,
   "metadata": {
    "collapsed": false
   },
   "outputs": [],
   "source": [
    "#used to genereate range of values for w1 and w2\n",
    "def generateGraphData(numberOfEach):\n",
    "    x = np.linspace(-10,10,numberOfEach)\n",
    "    #x = np.repeat(x, numberOfEach)\n",
    "    y = np.linspace(-10,10,numberOfEach)\n",
    "    #y = np.tile(y,numberOfEach)\n",
    "    x, y = np.meshgrid(x,y)\n",
    "    return [x,y]"
   ]
  },
  {
   "cell_type": "code",
   "execution_count": 33,
   "metadata": {
    "collapsed": false
   },
   "outputs": [],
   "source": [
    "#testing validity of the plotErrorSurface  function and generateGraphData\n",
    "def TestErrorCalculation():\n",
    "    print(\"The weight vectors in the graph all have an error of less then 0.005\\n\")\n",
    "    data = plotErrorSurface(10)\n",
    "    goodData = []\n",
    "    for x,y,z in zip(np.ravel(data[0]), np.ravel(data[1]), np.ravel(data[2])):\n",
    "        if z < 0.005:\n",
    "            goodData.extend([[x, y]])\n",
    "            plotData(x,y)\n",
    "    print(goodData)"
   ]
  },
  {
   "cell_type": "code",
   "execution_count": 34,
   "metadata": {
    "collapsed": true
   },
   "outputs": [],
   "source": [
    "#testing functions to plot Error data\n",
    "#NOTE: this may take a bit of time to run as it is generating alot of data\n",
    "def Test3DErrorPlot():\n",
    "    data = plotErrorSurface(10)\n",
    "\n",
    "    fig = plt.figure()\n",
    "    ax = fig.add_subplot(111, projection='3d')\n",
    "    ax.plot_surface(data[0], data[1],data[2],rstride=1, cstride=1, cmap=cm.coolwarm)\n",
    "\n",
    "    ax.set_xlabel('W1 Axis')\n",
    "    ax.set_ylabel('W2 Axis')\n",
    "    ax.set_zlabel('Error Axis')\n",
    "\n",
    "    plt.show()"
   ]
  },
  {
   "cell_type": "code",
   "execution_count": 35,
   "metadata": {
    "collapsed": true
   },
   "outputs": [],
   "source": [
    "#testing the the function to find a w\n",
    "def TestFindWeights():\n",
    "    for i in range(0,4):\n",
    "        error = findW(False, False)\n",
    "        print(\"The error for these values:\",error)\n",
    "        print(\"\")"
   ]
  },
  {
   "cell_type": "code",
   "execution_count": 69,
   "metadata": {
    "collapsed": false
   },
   "outputs": [],
   "source": [
    "#Animated error surface with 1 changing point\n",
    "fig = plt.figure()\n",
    "ax = fig.add_subplot(121, projection='3d')\n",
    "dataFile = []\n",
    "with open('Data.txt') as fp:\n",
    "    reader = csv.reader(fp, delimiter=',')\n",
    "    for line in reader:\n",
    "        dataFile.append([int(line[0]), float(line[1]), float(line[2])])\n",
    "changingIndex = randint(0,len(dataFile) -1)\n",
    "dataFile[changingIndex][1] += 0.5\n",
    "with open(\"Data.txt\", \"w\") as fp:\n",
    "    writer = csv.writer(fp, delimiter=',')\n",
    "    for i in range(0, len(dataFile)):\n",
    "        writer.writerow([dataFile[i][0],dataFile[i][1],dataFile[i][2]])\n",
    "data = plotErrorSurface(5)\n",
    "ax.plot_surface(data[0], data[1],data[2],rstride=1, cstride=1, cmap=cm.coolwarm)\n",
    "iterations = 0\n",
    "deltaX = 1\n",
    "deltaY = -2\n",
    "\n",
    "axarr = fig.add_subplot(122)\n",
    "data = []\n",
    "with open('Data.txt') as fp:\n",
    "    reader = csv.reader(fp, delimiter=',')\n",
    "    for line in reader:\n",
    "        data.append([int(line[0]), float(line[1]), float(line[2])])\n",
    "for i in range(0,len(data)):\n",
    "    if data[i][0] == 1:\n",
    "        axarr.scatter(data[i][1],data[i][2],20, 'r')\n",
    "    else:\n",
    "        axarr.scatter(data[i][1],data[i][2],20, 'y')\n",
    "        \n",
    "def animateError(i):\n",
    "    global iterations, deltaX, deltaY,data\n",
    "    iterations +=1\n",
    "    data[changingIndex][1] += deltaX\n",
    "    data[changingIndex][2] += deltaY\n",
    "    if data[changingIndex][1] < -10:\n",
    "        deltaX *= -1\n",
    "    if data[changingIndex][1] > 10:\n",
    "        deltaX *= -1\n",
    "    if data[changingIndex][2] < -10:\n",
    "        deltaY *= -1\n",
    "    if data[changingIndex][2] > 10:\n",
    "        deltaY *= -1\n",
    "#     with open(\"Data.txt\", \"w\") as fp:\n",
    "#         writer = csv.writer(fp, delimiter=',')\n",
    "#         for i in range(0, len(dataFile)):\n",
    "#             writer.writerow([dataFile[i][0],dataFile[i][1],dataFile[i][2]])\n",
    "    ax.clear()\n",
    "    errorSurface = plotErrorSurface(5, data)\n",
    "    ax.plot_surface(errorSurface[0], errorSurface[1],errorSurface[2],rstride=1, cstride=1, cmap=cm.coolwarm)\n",
    "    ax.set_xlabel('W1 Axis')\n",
    "    ax.set_ylabel('W2 Axis')\n",
    "    ax.set_zlabel('Error Axis; iteration:%d'%i,)\n",
    "    axarr.clear()\n",
    "    for i in range(0,len(data)):\n",
    "        if data[i][0] == 1:\n",
    "            axarr.scatter(data[i][1],data[i][2],20, 'r')\n",
    "        else:\n",
    "            axarr.scatter(data[i][1],data[i][2],20, 'y')\n",
    "    \n",
    "      \n",
    "ani1 = animation.FuncAnimation(fig,animateError, interval=1000)\n",
    "\n",
    "ax.set_xlabel('W1 Axis')\n",
    "ax.set_ylabel('W2 Axis')\n",
    "ax.set_zlabel('Error Axis; iteration:%d'%iterations,)\n",
    "\n",
    "plt.show()"
   ]
  },
  {
   "cell_type": "code",
   "execution_count": 92,
   "metadata": {
    "collapsed": false
   },
   "outputs": [],
   "source": [
    "#offLine animated error plot surface\n",
    "# you must have run calcOfflineData(0.25,-0.5,40, 40) with what I suggest those parameters, it will take about 10\n",
    "# mins to run but it will give the best results. If not and you already have a offlineErrorData.txt file then you\n",
    "# will not need to run that function\n",
    "fig = plt.figure()\n",
    "ax = fig.add_subplot(121, projection='3d')\n",
    "deltaX = 0\n",
    "deltaY = 0\n",
    "iteration = 0\n",
    "changeIndex = 0\n",
    "meshNumber = 0\n",
    "errorData = []\n",
    "def stringToFloat(number):\n",
    "    return float(number)\n",
    "\n",
    "with open('offlineErrorData.txt') as fp:\n",
    "    reader = csv.reader(fp, delimiter=',')\n",
    "    for line in reader:\n",
    "        if len(line) == 5:\n",
    "            deltaX, deltaY, changeIndex, iteration, meshNumber = [float(x) for x in line]\n",
    "        else:\n",
    "            errorData.append([stringToFloat(x) for x in line])\n",
    "iteration = int(iteration)\n",
    "axarr = fig.add_subplot(122)\n",
    "data = []\n",
    "with open('Data.txt') as fp:\n",
    "    reader = csv.reader(fp, delimiter=',')\n",
    "    for line in reader:\n",
    "        data.append([int(line[0]), float(line[1]), float(line[2])])\n",
    "for i in range(0,len(data)):\n",
    "    if data[i][0] == 1:\n",
    "        axarr.scatter(data[i][1],data[i][2],20, 'r')\n",
    "    else:\n",
    "        axarr.scatter(data[i][1],data[i][2],20, 'y')\n",
    "\n",
    "meshx = np.linspace(-10,10,meshNumber)\n",
    "meshy = np.linspace(-10,10,meshNumber)\n",
    "meshx, meshy = np.meshgrid(meshx,meshy)      \n",
    "def animateError(i):\n",
    "    global deltaX, deltaY,data, iteration, changeIndex\n",
    "    axarr.clear()\n",
    "    for x in range(0,len(data)):\n",
    "        if data[x][0] == 1:\n",
    "            axarr.scatter(data[x][1],data[x][2],20, 'r')\n",
    "        else:\n",
    "            axarr.scatter(data[x][1],data[x][2],20, 'y')\n",
    "    data[changingIndex][1] += deltaX\n",
    "    data[changingIndex][2] += deltaY\n",
    "    if data[changingIndex][1] < -10:\n",
    "        deltaX *= -1\n",
    "    if data[changingIndex][1] > 10:\n",
    "        deltaX *= -1\n",
    "    if data[changingIndex][2] < -10:\n",
    "        deltaY *= -1\n",
    "    if data[changingIndex][2] > 10:\n",
    "        deltaY *= -1\n",
    "    ax.clear()\n",
    "    errorSurface = np.asarray(errorData[i % iteration ]).reshape(meshx.shape)\n",
    "    ax.plot_surface(meshx, meshy,errorSurface,rstride=1, cstride=1, cmap=cm.coolwarm)\n",
    "    ax.set_xlabel('W1 Axis')\n",
    "    ax.set_ylabel('W2 Axis')\n",
    "    ax.set_zlabel('Error Axis; iteration:%d'%i,)\n",
    "    \n",
    "      \n",
    "ani1 = animation.FuncAnimation(fig,animateError, interval=1000)\n",
    "\n",
    "ax.set_xlabel('W1 Axis')\n",
    "ax.set_ylabel('W2 Axis')\n",
    "ax.set_zlabel('Error Axis; iteration:%d'%iterations,)\n",
    "\n",
    "plt.show()"
   ]
  },
  {
   "cell_type": "code",
   "execution_count": 80,
   "metadata": {
    "collapsed": true
   },
   "outputs": [],
   "source": [
    "#you must have a file called Data.txt where it will be your training data will be saved to. suggest using my data \n",
    "# generation files in my format.\n",
    "def calcOfflineData(deltaX = 1, deltaY = -2,meshNumber = 10,iterations = 10, fileName = \"offlineErrorData.txt\"):\n",
    "    data = []\n",
    "    x = np.linspace(-10,10,meshNumber)\n",
    "    y = np.linspace(-10,10,meshNumber)\n",
    "    x, y = np.meshgrid(x,y)\n",
    "    with open('Data.txt') as fp:\n",
    "        reader = csv.reader(fp, delimiter=',')\n",
    "        for line in reader:\n",
    "            data.append([int(line[0]), float(line[1]), float(line[2])])\n",
    "    \n",
    "    changingIndex = randint(0,len(data) -1)\n",
    "    \n",
    "    dataFile = open(fileName, \"w\")\n",
    "    writer = csv.writer(dataFile, delimiter=',')\n",
    "    writer.writerow([deltaX, deltaY,changingIndex, iterations, meshNumber])\n",
    "    \n",
    "    for i in range(0,iterations):\n",
    "        data[changingIndex][1] += deltaX\n",
    "        data[changingIndex][2] += deltaY\n",
    "        if data[changingIndex][1] < -10:\n",
    "            deltaX *= -1\n",
    "        if data[changingIndex][1] > 10:\n",
    "            deltaX *= -1\n",
    "        if data[changingIndex][2] < -10:\n",
    "            deltaY *= -1\n",
    "        if data[changingIndex][2] > 10:\n",
    "            deltaY *= -1\n",
    "        z = np.array([calculateError(X,Y, data,False) for X,Y in zip(np.ravel(x), np.ravel(y))])\n",
    "        writer.writerow(z)\n",
    "    dataFile.close()\n",
    "            "
   ]
  },
  {
   "cell_type": "code",
   "execution_count": 91,
   "metadata": {
    "collapsed": false
   },
   "outputs": [],
   "source": [
    "calcOfflineData(0.25,-0.5,40, 40)"
   ]
  },
  {
   "cell_type": "code",
   "execution_count": null,
   "metadata": {
    "collapsed": true
   },
   "outputs": [],
   "source": []
  }
 ],
 "metadata": {
  "kernelspec": {
   "display_name": "Python 3",
   "language": "python",
   "name": "python3"
  },
  "language_info": {
   "codemirror_mode": {
    "name": "ipython",
    "version": 3
   },
   "file_extension": ".py",
   "mimetype": "text/x-python",
   "name": "python",
   "nbconvert_exporter": "python",
   "pygments_lexer": "ipython3",
   "version": "3.4.2"
  }
 },
 "nbformat": 4,
 "nbformat_minor": 0
}

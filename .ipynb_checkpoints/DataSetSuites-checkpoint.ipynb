{
 "cells": [
  {
   "cell_type": "code",
   "execution_count": 210,
   "metadata": {
    "collapsed": true
   },
   "outputs": [],
   "source": [
    "import numpy as np\n",
    "import matplotlib.pyplot as plt\n",
    "import theano\n",
    "import theano.tensor as T\n",
    "import csv"
   ]
  },
  {
   "cell_type": "code",
   "execution_count": 216,
   "metadata": {
    "collapsed": false
   },
   "outputs": [],
   "source": [
    "#generates len(dataPoints) amount of gause clusters\n",
    "#@dataPoints: is a list of mean and covariance's to generate data for.\n",
    "#       Which look something like [[mean1, cov1, value1], [mean2,cov2,value2]] where mean is a 1X2 and cov is 2X2\n",
    "#       and value is what the value for this cluster will be, which is a truthy value.\n",
    "#@size: size of data points you want per cluster\n",
    "#@display: true of false if you want to display data on plot or not\n",
    "#@ofName: out file name where to save data to. If you do not wish to save the data to a file \n",
    "#       Then just dont pass anything for this param.\n",
    "def generate2DGausData(dataPoints, size = 500, display = True, ofName = ''):\n",
    "    points = []\n",
    "    if ofName:\n",
    "        data = open(ofName, \"w\")\n",
    "        writer = csv.writer(data, delimiter=',')\n",
    "    for i in range(0,len(dataPoints)):\n",
    "        x,y = np.random.multivariate_normal(dataPoints[i][0], dataPoints[i][1], size).T\n",
    "        for kk in range(0,size):\n",
    "            points.extend([[dataPoints[i][2],x[kk],y[kk]]])\n",
    "            if ofName:\n",
    "                writer.writerow([dataPoints[i][2],x[kk],y[kk]])\n",
    "        if display:\n",
    "            if dataPoints[i][2]:\n",
    "                plt.scatter(x,y,20, 'r')\n",
    "            else:\n",
    "                plt.scatter(x,y,20, 'y')\n",
    "    if ofName:\n",
    "        data.close()\n",
    "    if display:\n",
    "        plt.show()\n",
    "    return points\n",
    "\n",
    "#Example on how to use\n",
    "# mean1 = [0,0]\n",
    "# cov1 = [[10,0],[0,10]]\n",
    "# cluster1 = [mean1,cov1, 1]\n",
    "\n",
    "# mean2 = [30,30]\n",
    "# cov2 = [[10,0],[0,10]]\n",
    "# cluster2 = [mean2,cov2, 0]\n",
    "\n",
    "# clusters = [cluster1, cluster2]\n",
    "# x = generate2DGausData(clusters)\n",
    "# //or\n",
    "# x = generate2DGausData(clusters, 100,False, 'test.txt')"
   ]
  },
  {
   "cell_type": "code",
   "execution_count": 212,
   "metadata": {
    "collapsed": true
   },
   "outputs": [],
   "source": [
    "#@line: A list of the weight vectors\n",
    "#@bias: list of the offset for the weights\n",
    "#@dataRange: range you want your dataset to be in\n",
    "#@epsilon: which must be a number between (0-0.5] which is how close you want you data to the weight vectors\n",
    "#@size: The size of the data set you want.\n",
    "#@display: true of false if you wish to see what data looks like on plot\n",
    "#@ofName: out file name where to save data to. If you do not wish to save the data to a file \n",
    "#       Then just dont pass anything for this param.\n",
    "def generateLinearData(line, bias, dataRange, epsilon, size = 500, display = True, ofName = ''):\n",
    "    x = T.vector('x')\n",
    "    w = T.vector('w')\n",
    "    s = 1 / (1 + T.exp(-T.dot(x,w)))\n",
    "    logistic = theano.function([x,w], s)\n",
    "    \n",
    "    x1 = np.random.uniform(dataRange[0],dataRange[1],size)\n",
    "    x2 = np.random.uniform(dataRange[0],dataRange[1],size)\n",
    "    \n",
    "    if ofName:\n",
    "        data = open(ofName, \"w\")\n",
    "        writer = csv.writer(data, delimiter=',')\n",
    "    \n",
    "    points = []\n",
    "    for i in range(0,size):\n",
    "        f = logistic([x1[i],x2[i]],[line[0] + bias[0],line[1] + bias[1]])\n",
    "        if 1 - f <= epsilon:\n",
    "            points.extend([[1,x1[i],x2[i]]])\n",
    "            if ofName:\n",
    "                writer.writerow([1,x1[i],x2[i]])\n",
    "            if display:\n",
    "                plt.scatter(x1[i],x2[i],20, 'r')\n",
    "        elif f < epsilon:\n",
    "            points.extend([[0,x1[i],x2[i]]])\n",
    "            if ofName:\n",
    "                writer.writerow([0,x1[i],x2[i]])\n",
    "            if display:\n",
    "                plt.scatter(x1[i],x2[i],20, 'y')\n",
    "    if ofName:\n",
    "        data.close()\n",
    "    if display:\n",
    "        plt.show()\n",
    "    return points\n",
    "\n",
    "#example:\n",
    "# x = generateLinearData([1,1],[0,0], [-5,5],0.01, 500, True,'test2.txt')"
   ]
  },
  {
   "cell_type": "code",
   "execution_count": 213,
   "metadata": {
    "collapsed": false
   },
   "outputs": [],
   "source": [
    "#@coef: list a coefficients of degree 5 polynomial, where [a,b,c,d,e] belongs to ax^5 + bx^4 + cx^3 +dx^2 + e\n",
    "#@dataRange: list of [xRange, yRange]. for example [[-5,5],[0,5]]\n",
    "#@size: number of data points you want\n",
    "#@display: true of false if you wish to see what data looks like on plot\n",
    "#@ofName: out file name where to save data to. If you do not wish to save the data to a file \n",
    "#       Then just dont pass anything for this param.\n",
    "def generatePolynomialData(coef, dataRange, size = 500, display = True, ofName = ''):\n",
    "    x = np.random.uniform(dataRange[0][0],dataRange[0][1],size)\n",
    "    y = np.random.uniform(dataRange[1][0],dataRange[1][1],size)\n",
    "    \n",
    "    if ofName:\n",
    "        data = open(ofName, \"w\")\n",
    "        writer = csv.writer(data, delimiter=',')\n",
    "    points = []\n",
    "    for i in range(0,size):\n",
    "        fx = calculatePolynomial(x[i], coef)\n",
    "        if y[i] > fx:\n",
    "            points.extend([[1,x[i],y[i]]])\n",
    "            if ofName:\n",
    "                writer.writerow([1,x[i],y[i]])\n",
    "            if display:\n",
    "                plt.scatter(x[i],y[i],20,'r')\n",
    "        else:\n",
    "            points.extend([[0,x[i],y[i]]])\n",
    "            if ofName:\n",
    "                writer.writerow([0,x[i],y[i]])\n",
    "            if display:\n",
    "                plt.scatter(x[i],y[i],20,'y')\n",
    "    if ofName:\n",
    "        data.close()\n",
    "    if display:\n",
    "        x1 = np.linspace(dataRange[0][0],dataRange[0][1],size)\n",
    "        plt.plot(x1, coef[0]*x1**5 + coef[1]*x1**4 + coef[2]*x1**3 + coef[3]*x1**2 + coef[4])\n",
    "        plt.axis([dataRange[0][0] - 2, dataRange[0][1] + 2, dataRange[1][0] - 2, dataRange[1][1] + 2])\n",
    "        plt.show()\n",
    "    return points\n",
    "#Example:\n",
    "#x = generatePolynomialData([0,0,0,1,1], [[-5,5],[0,5]])\n",
    "#or\n",
    "#x = generatePolynomialData([1,1,2,1,1], [[-5,5],[0,5]], 500,True, 'test3.txt')"
   ]
  },
  {
   "cell_type": "code",
   "execution_count": 214,
   "metadata": {
    "collapsed": false
   },
   "outputs": [],
   "source": [
    "#function only used for generatePolynomialData() no need to test this function ... \n",
    "def calculatePolynomial(x, coef):\n",
    "    return coef[0]*x**5 + coef[1]*x**4 + coef[2]*x**3 + coef[3]*x**2 + coef[4]"
   ]
  }
 ],
 "metadata": {
  "kernelspec": {
   "display_name": "Python 3",
   "language": "python",
   "name": "python3"
  },
  "language_info": {
   "codemirror_mode": {
    "name": "ipython",
    "version": 3
   },
   "file_extension": ".py",
   "mimetype": "text/x-python",
   "name": "python",
   "nbconvert_exporter": "python",
   "pygments_lexer": "ipython3",
   "version": "3.4.2"
  }
 },
 "nbformat": 4,
 "nbformat_minor": 0
}
